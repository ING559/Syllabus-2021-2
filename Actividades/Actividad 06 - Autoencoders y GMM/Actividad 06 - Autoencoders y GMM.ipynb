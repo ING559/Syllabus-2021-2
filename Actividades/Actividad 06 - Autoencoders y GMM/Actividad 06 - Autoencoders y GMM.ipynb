{
 "cells": [
  {
   "cell_type": "markdown",
   "id": "hHVHoZLGqBy2",
   "metadata": {
    "id": "hHVHoZLGqBy2"
   },
   "source": [
    "# Actividad 06: Generación de imágenes con Autoencoders y GMM\n",
    "\n",
    "En esta actividad vamos a trabajar con el _dataset_ Fashion MNIST, un _dataset_ de imágenes de $28\\times28$ en blanco y negro de prendas de ropa. Son 10 tipos de prendas en total (para una referencia mira [acá](https://github.com/zalandoresearch/fashion-mnist)). \n",
    "\n",
    "En esta actividad vas a generar imagenes nuevas gracias al modelo GMM. A grandes rasgos tendrás que:\n",
    "\n",
    "- Entrenar un _Autoencoder_ que aprenda a reducir la dimensionalidad del _dataset_ Fashion MNIST.\n",
    "- Usar GMM para encontrar _clusters_ para la versión reducida del _dataset_.\n",
    "- Usar las distribuciones encontradas con GMM para generar nuevas instancias (con la dimensión de la reducción).\n",
    "- Tomar las instancias nuevas y llevarlas a la dimensión original, para luego visualizar estas instancias.\n",
    "\n",
    "La idea es que las imagenes generadas parezcan venir del _dataset_ original, a pesar de que sean completamente nuevas.\n",
    "\n",
    "## Parte 1:  reducción de dimensionalidad\n",
    "\n",
    "En la primera parte vas a tener que entrenar un _autoencoder_ que reduce las imágenes a 6 dimensiones. La arquitectura (número de capas, neuronas por capa) la tienes que escoger tú. Te recomendamos probar con la arquitectura vista en clases que tiene una función de activación `selu`. Para entrenar la reducción de dimensionalidad usa las últimas $10,000$ imágenes del _dataset_.\n",
    "\n",
    "Una vez entrenado, toma algunas imágenes que el _autoencoder_ no haya visto en el entrenamiento (es decir, que estén entre las primeras $60,000$ imágenes. Comprimelas con el _encoder_, descomprime con el _decoder_ y visualizalas para _checkear_ que tu _autoencoder_ funciona razonablemente bien. \n",
    "\n",
    "Finalmente, crea un _dataset_ llamado `X_auto`, que tiene que ser igual a la reducción de dimensionalidad de las últimas $10,000$ imágenes del _dataset_ Fashion MNIST con el _encoder_. **Ojo**: recuerda que siempre es buena idea estandarizar los datos. Además, puede que haya ciertos tipos de imágenes que no funcionen tan bien como otras. Lo ideal es probar con una imagen de cada tipo, pero no es necesario.\n",
    "\n",
    "## Parte 2: clustering y generación de nuevas imágenes \n",
    "\n",
    "Toma el _dataset_ `X_auto` y entrena un modelo GMM, indicando que queremos encontrar 10 clusters. Luego de esto, obtiene el vector de media y la matriz de covarianza para cada una de las distribuciones encontradas. Para hacer esto, puedes ver la [documentación oficial](https://scikit-learn.org/stable/modules/generated/sklearn.mixture.GaussianMixture.html), aunque la idea es la siguiente:\n",
    "\n",
    "```Python\n",
    "# ...\n",
    "gmm = GaussianMixture(n_components=10, n_init=5).fit(X_auto)\n",
    "\n",
    "# ...\n",
    "\n",
    "# Lista de vectores de medias\n",
    "gmm.means_\n",
    "\n",
    "# Matrices de covarianza\n",
    "gmm.covariances_\n",
    "```\n",
    "\n",
    "Ahora, vamos a generar nuevas instancias usando estos datos. Usa\n",
    "\n",
    "```\n",
    "np.random.multivariate_normal(mean_vector, covariance_matrix)\n",
    "```\n",
    "\n",
    "Para generar un elemento de la normal multivariada con el vector de media `mean_vector` y la matriz de covarianza `covariance_matrix`. Así, obtén dos elementos generados para cada una de las 10 gaussianas que encontraste con GMM.\n",
    "\n",
    "## Parte 3: análisis  \n",
    "\n",
    "Cada elemento generado puede ser graficado como imagen. Para esto, hay que pasarlo por el decodificador como vimos en clases. Así, analiza visualmente los dos elementos que generaste por gaussiana.\n",
    "\n",
    "Luego, toma la media de cada una de las gaussianas, y transforma cada una de estas medias en una imagen de $28\\times28$. Visualiza cada uno de los vectores de medias.\n",
    "\n",
    "Ahora, considerando todas las visualizaciones de esta parte, responde: ¿qué _clusters_ parece entregar consistentemente prendas de un tipo en específico? ¿qué tipos de prendas son?"
   ]
  },
  {
   "cell_type": "markdown",
   "id": "cWNswKEsqBy8",
   "metadata": {
    "id": "cWNswKEsqBy8"
   },
   "source": [
    "### Detalles académicos\n",
    "\n",
    "La entrega de esta actividad debe ser un archivo comprimido donde se encuentre un Jupyter Notebook, junto a cualquier archivo que estés llamando desde tu código. La fecha de entrega es hasta el sábado 11 de diciembre hasta las 23:59, en el buzón correspondiente de Webcursos."
   ]
  },
  {
   "cell_type": "markdown",
   "id": "CEsU7bGcqBy9",
   "metadata": {
    "id": "CEsU7bGcqBy9"
   },
   "source": [
    "## Desarrollo\n",
    "\n",
    "Comienza a desarrollar tu actividad desde aquí. Para ayudar, vamos a cargar el _dataset_ y vamos a mostrar cómo hacer varias visualizaciones en una celda."
   ]
  },
  {
   "cell_type": "code",
   "execution_count": 1,
   "id": "yPMVnLAAqBy-",
   "metadata": {
    "id": "yPMVnLAAqBy-"
   },
   "outputs": [],
   "source": [
    "import numpy as np\n",
    "import pandas as pd\n",
    "import matplotlib.pyplot as plt\n",
    "import seaborn as sns\n",
    "from sklearn.datasets import fetch_openml"
   ]
  },
  {
   "cell_type": "markdown",
   "id": "E1KF4ZceqBy_",
   "metadata": {
    "id": "E1KF4ZceqBy_"
   },
   "source": [
    "Vamos a descargar el _dataset_ y nos quedamos con las $10,000$ últimas filas."
   ]
  },
  {
   "cell_type": "code",
   "execution_count": 2,
   "id": "hoKiSLpQqBzA",
   "metadata": {
    "colab": {
     "base_uri": "https://localhost:8080/"
    },
    "id": "hoKiSLpQqBzA",
    "outputId": "111a0b17-c36a-4ea1-f7fb-4ef3e1ac72be"
   },
   "outputs": [
    {
     "data": {
      "text/plain": [
       "dict_keys(['data', 'target', 'frame', 'categories', 'feature_names', 'target_names', 'DESCR', 'details', 'url'])"
      ]
     },
     "execution_count": 2,
     "metadata": {},
     "output_type": "execute_result"
    }
   ],
   "source": [
    "mnist = fetch_openml(\"Fashion-MNIST\", version=1, as_frame=True)\n",
    "mnist.keys()"
   ]
  },
  {
   "cell_type": "code",
   "execution_count": 3,
   "id": "8U1BcEhbBawx",
   "metadata": {
    "colab": {
     "base_uri": "https://localhost:8080/"
    },
    "id": "8U1BcEhbBawx",
    "outputId": "11086b19-251c-4612-abd7-42ec350b021b"
   },
   "outputs": [
    {
     "name": "stdout",
     "output_type": "stream",
     "text": [
      "<class 'pandas.core.frame.DataFrame'>\n",
      "RangeIndex: 10000 entries, 60000 to 69999\n",
      "Columns: 784 entries, pixel1 to pixel784\n",
      "dtypes: float64(784)\n",
      "memory usage: 59.8 MB\n"
     ]
    }
   ],
   "source": [
    "X, y = mnist[\"data\"], mnist[\"target\"]\n",
    "X_sample = X[60000:]\n",
    "y_sample = y[60000:]\n",
    "\n",
    "X_sample.info()"
   ]
  },
  {
   "cell_type": "markdown",
   "id": "WRe10nEgqBzB",
   "metadata": {
    "id": "WRe10nEgqBzB"
   },
   "source": [
    "### Mostrando una foto\n",
    "Para mostrar las fotos, tenemos que volver a formato de 28x28 píxeles"
   ]
  },
  {
   "cell_type": "code",
   "execution_count": 4,
   "id": "wFFAlXiVqBzB",
   "metadata": {
    "colab": {
     "base_uri": "https://localhost:8080/",
     "height": 248
    },
    "id": "wFFAlXiVqBzB",
    "outputId": "7b15cfc4-738f-48bf-81c3-b7778ab70b35"
   },
   "outputs": [
    {
     "data": {
      "image/png": "[encoded data removed]",
      "text/plain": [
       "<Figure size 432x288 with 1 Axes>"
      ]
     },
     "metadata": {
      "needs_background": "light"
     },
     "output_type": "display_data"
    }
   ],
   "source": [
    "# Vamos a obtener la instancia número 1000 del dataset original\n",
    "\n",
    "some_item = X.iloc[1000]\n",
    "some_item_image = some_item.values.reshape(28,28)\n",
    "\n",
    "plt.imshow(some_item_image, cmap=\"binary\")\n",
    "plt.show()"
   ]
  },
  {
   "cell_type": "markdown",
   "id": "72372ac9",
   "metadata": {},
   "source": [
    "Ahora para visualizar más de una prenda por celda hacemos lo siguiente."
   ]
  },
  {
   "cell_type": "code",
   "execution_count": 5,
   "id": "deb3e9ae",
   "metadata": {},
   "outputs": [
    {
     "data": {
      "image/png": "[encoded data removed]",
      "text/plain": [
       "<Figure size 720x720 with 3 Axes>"
      ]
     },
     "metadata": {
      "needs_background": "light"
     },
     "output_type": "display_data"
    }
   ],
   "source": [
    "# Queremos una grilla de una fila y tres columnas\n",
    "fig, axes = plt.subplots(1, 3, figsize=(10,10))\n",
    "\n",
    "some_item_0 = X.iloc[0]\n",
    "some_item_1 = X.iloc[1]\n",
    "some_item_2 = X.iloc[2]\n",
    "\n",
    "some_item_0_img = some_item_0.values.reshape(28, 28)\n",
    "some_item_1_img = some_item_1.values.reshape(28, 28)\n",
    "some_item_2_img = some_item_2.values.reshape(28, 28)\n",
    "\n",
    "axes[0].imshow(some_item_0_img, cmap=\"binary\")\n",
    "axes[1].imshow(some_item_1_img, cmap=\"binary\")\n",
    "axes[2].imshow(some_item_2_img, cmap=\"binary\")\n",
    "\n",
    "plt.show()"
   ]
  },
  {
   "cell_type": "code",
   "execution_count": 6,
   "id": "227056e9",
   "metadata": {
    "scrolled": false
   },
   "outputs": [
    {
     "data": {
      "image/png": "[encoded data removed]",
      "text/plain": [
       "<Figure size 720x720 with 6 Axes>"
      ]
     },
     "metadata": {
      "needs_background": "light"
     },
     "output_type": "display_data"
    }
   ],
   "source": [
    "# Queremos una grilla de dos filas y tres columnas\n",
    "fig, axes = plt.subplots(2, 3, figsize=(10,10))\n",
    "\n",
    "some_item_0 = X.iloc[0]\n",
    "some_item_1 = X.iloc[1]\n",
    "some_item_2 = X.iloc[2]\n",
    "some_item_3 = X.iloc[3]\n",
    "some_item_4 = X.iloc[4]\n",
    "some_item_5 = X.iloc[5]\n",
    "\n",
    "some_item_0_img = some_item_0.values.reshape(28, 28)\n",
    "some_item_1_img = some_item_1.values.reshape(28, 28)\n",
    "some_item_2_img = some_item_2.values.reshape(28, 28)\n",
    "some_item_3_img = some_item_3.values.reshape(28, 28)\n",
    "some_item_4_img = some_item_4.values.reshape(28, 28)\n",
    "some_item_5_img = some_item_5.values.reshape(28, 28)\n",
    "\n",
    "axes[0][0].imshow(some_item_0_img, cmap=\"binary\")\n",
    "axes[0][1].imshow(some_item_1_img, cmap=\"binary\")\n",
    "axes[0][2].imshow(some_item_2_img, cmap=\"binary\")\n",
    "axes[1][0].imshow(some_item_3_img, cmap=\"binary\")\n",
    "axes[1][1].imshow(some_item_4_img, cmap=\"binary\")\n",
    "axes[1][2].imshow(some_item_5_img, cmap=\"binary\")\n",
    "\n",
    "plt.show()"
   ]
  },
  {
   "cell_type": "markdown",
   "id": "1ba90a16",
   "metadata": {},
   "source": [
    "Ahora corresponda que sigas tú."
   ]
  },
  {
   "cell_type": "code",
   "execution_count": null,
   "id": "72363b2b",
   "metadata": {},
   "outputs": [],
   "source": []
  }
 ],
 "metadata": {
  "colab": {
   "collapsed_sections": [],
   "name": "21103321_Alvarez_Valentina.ipynb",
   "provenance": []
  },
  "kernelspec": {
   "display_name": "Python 3",
   "language": "python",
   "name": "python3"
  },
  "language_info": {
   "codemirror_mode": {
    "name": "ipython",
    "version": 3
   },
   "file_extension": ".py",
   "mimetype": "text/x-python",
   "name": "python",
   "nbconvert_exporter": "python",
   "pygments_lexer": "ipython3",
   "version": "3.9.5"
  }
 },
 "nbformat": 4,
 "nbformat_minor": 5
}
